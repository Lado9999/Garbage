{
 "cells": [
  {
   "cell_type": "markdown",
   "metadata": {},
   "source": [
    "# Gershgorin Circle Theorem\n",
    "Given a complex matrix \\\\(M\\\\), it's eigenvalues \\\\(\\lambda_i\\\\) will lie in \\\\(\\bigcup_i B(c_i, r_i)\\\\), where \\\\(B(c,r)\\\\) is a disk on a complex plane with center \\\\(c\\\\) and radius \\\\(r\\\\). \\\n",
    "Centers and radii are given as \\\\(c_i = M_{ii}\\\\) and \\\\(r_i = \\sum_{j\\neq i} |M_{ij}|\\\\). \\\n",
    "Moreover, if there are \\\\(k\\\\)-disks disjoint from the rest, their union will contain exactly \\\\(k\\\\) eigenvalues"
   ]
  },
  {
   "cell_type": "code",
   "execution_count": 72,
   "metadata": {},
   "outputs": [],
   "source": [
    "import numpy as np\n",
    "import numpy.linalg as la\n",
    "import matplotlib.pyplot as plt"
   ]
  },
  {
   "cell_type": "code",
   "execution_count": 149,
   "metadata": {},
   "outputs": [],
   "source": [
    "def randomMatrix(N, complx=True, r=1):\n",
    "    \"\"\"\n",
    "    Generate a random matrix whose diagonal elements are r times larger than the rest\n",
    "    \n",
    "    Parameters\n",
    "    ----------\n",
    "    N - dimension of the matrix\n",
    "    complx - if true created random matrix will be complex\n",
    "    r - average ratio of diagonal elements to non-diagonal elements\n",
    "    \n",
    "    returns numpy.array of shape (N,N)   \n",
    "    \n",
    "    \"\"\"\n",
    "    mat = np.random.uniform(-1,1,(N,N)) + complx*np.random.uniform(-1,1,(N,N))*1j\n",
    "    for i, row in enumerate(mat):\n",
    "        row[i] = r*row[i]\n",
    "        \n",
    "    return mat"
   ]
  },
  {
   "cell_type": "code",
   "execution_count": 150,
   "metadata": {},
   "outputs": [],
   "source": [
    "class Gershgorin():\n",
    "    '''\n",
    "    Gershgorin class is initialized using a matrix. \n",
    "    There are two main functions available to the user\n",
    "    plot() and __str__()\n",
    "    '''\n",
    "    def __init__(self, Matrix):\n",
    "        self.M = Matrix\n",
    "        \n",
    "        self.eigvals = la.eigvals(Matrix)\n",
    "        self.centers = None\n",
    "        self.radii = None\n",
    "        self._circles()\n",
    "        \n",
    "    def plot(self):\n",
    "        '''\n",
    "        Plots Gershgorin circles, their centers and the eigenvalues of the matrix\n",
    "        '''\n",
    "        fig = plt.figure(figsize=(10,10))\n",
    "        ax = fig.add_subplot(111)\n",
    "\n",
    "        centerplot = ax.scatter(self.centers.T[0], self.centers.T[1], marker='x', zorder=3) #Plot centers on top\n",
    "\n",
    "        eigvalplot = ax.scatter(self.eigvals.real, self.eigvals.imag, c='r', zorder=2) #Plot eigenvalues on top circles but under centers\n",
    "\n",
    "        lightblue = (0,0,1,.1)\n",
    "        for c, r in zip(self.centers, self.radii):\n",
    "            circle = plt.Circle(c, r, fc=lightblue)\n",
    "            ax.add_patch(circle)\n",
    "\n",
    "        ax.axis('scaled') #Scale axes to fit everything that has been plotted\n",
    "        ax.legend([circle, centerplot, eigvalplot], \n",
    "                  ['Gershgorin Circles', 'Circle Centers', 'Eigenvalues'])\n",
    "\n",
    "        plt.show()\n",
    "            \n",
    "    def __str__(self):\n",
    "        '''\n",
    "        String representation can be used by calling a print function on an instance of the class.\n",
    "        It will print the matrix, eigenvalues, centers and radii of the Gershgorin circles.\n",
    "        Values are rounded to avoid clutter and ease readability.\n",
    "        '''\n",
    "        return 'M =\\n {0}\\n\\n Eigenvalues:\\n {1}\\n\\n Center coordiantes:\\n {2}\\n\\n Center radii:\\n {3}'.format(np.round(self.M,2).__str__(), \n",
    "                                                                                                       np.round(self.eigvals, 2), \n",
    "                                                                                                       self.centers.round(2), \n",
    "                                                                                                       self.radii.round(2))\n",
    "    def _circles(self):\n",
    "        '''\n",
    "        Supplementary function for calculating Gershgorin circle centers and radii\n",
    "        '''\n",
    "        diagM = np.diagonal(self.M)\n",
    "\n",
    "        centers = np.stack((diagM.real, diagM.imag)).T\n",
    "        radii = np.abs(self.M).sum(axis=1) - np.abs(diagM)\n",
    "\n",
    "        self.centers, self.radii = centers, radii"
   ]
  },
  {
   "cell_type": "code",
   "execution_count": 159,
   "metadata": {},
   "outputs": [
    {
     "data": {
      "image/png": "[encoded data removed]",
      "text/plain": [
       "<Figure size 720x720 with 1 Axes>"
      ]
     },
     "metadata": {
      "needs_background": "light"
     },
     "output_type": "display_data"
    },
    {
     "name": "stdout",
     "output_type": "stream",
     "text": [
      "M =\n",
      " [[ 1.13+0.24j -0.6 +0.85j]\n",
      " [ 0.38+0.63j -1.77-1.28j]]\n",
      "\n",
      " Eigenvalues:\n",
      " [ 0.91+0.35j -1.56-1.39j]\n",
      "\n",
      " Center coordiantes:\n",
      " [[ 1.13  0.24]\n",
      " [-1.77 -1.28]]\n",
      "\n",
      " Center radii:\n",
      " [1.04 0.74]\n"
     ]
    }
   ],
   "source": [
    "M = Gershgorin(randomMatrix(2, r=2))\n",
    "M.plot()\n",
    "print(M)"
   ]
  }
 ],
 "metadata": {
  "kernelspec": {
   "display_name": "Python 3",
   "language": "python",
   "name": "python3"
  },
  "language_info": {
   "codemirror_mode": {
    "name": "ipython",
    "version": 3
   },
   "file_extension": ".py",
   "mimetype": "text/x-python",
   "name": "python",
   "nbconvert_exporter": "python",
   "pygments_lexer": "ipython3",
   "version": "3.7.3"
  }
 },
 "nbformat": 4,
 "nbformat_minor": 4
}
